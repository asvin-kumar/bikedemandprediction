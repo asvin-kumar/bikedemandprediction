{
  "cells": [
    {
      "cell_type": "markdown",
      "metadata": {
        "id": "wnTPTN0x1gYv"
      },
      "source": [
        "Dataset\n",
        "=========================================\n",
        "Bike-sharing rental process is highly correlated to the environmental and seasonal settings. For instance, weather conditions,\n",
        "precipitation, day of week, season, hour of the day, etc. can affect the rental behaviors. The core data set is related to  \n",
        "the two-year historical log corresponding to years 2011 and 2012 from Capital Bikeshare system, Washington D.C., USA which is\n",
        "publicly available in http://capitalbikeshare.com/system-data. We aggregated the data on two hourly and daily basis and then\n",
        "extracted and added the corresponding weather and seasonal information. Weather information are extracted from http://www.freemeteo.com.\n"
      ]
    },
    {
      "cell_type": "code",
      "source": [],
      "metadata": {
        "id": "CEcOgyxn6d3V"
      },
      "execution_count": null,
      "outputs": []
    },
    {
      "cell_type": "markdown",
      "metadata": {
        "id": "1KzuPvse1Q7n"
      },
      "source": [
        "Dataset characteristics\n",
        "=========================================\n",
        "Both hour.csv and day.csv have the following fields, except hr which is not available in day.csv\n",
        "\n",
        "\t- instant: record index\n",
        "\t- dteday : date\n",
        "\t- season : season (1:springer, 2:summer, 3:fall, 4:winter)\n",
        "\t- yr : year (0: 2011, 1:2012)\n",
        "\t- mnth : month ( 1 to 12)\n",
        "\t- hr : hour (0 to 23)\n",
        "\t- holiday : weather day is holiday or not (extracted from http://dchr.dc.gov/page/holiday-schedule)\n",
        "\t- weekday : day of the week\n",
        "\t- workingday : if day is neither weekend nor holiday is 1, otherwise is 0.\n",
        "\t+ weathersit :\n",
        "\t\t- 1: Clear, Few clouds, Partly cloudy, Partly cloudy\n",
        "\t\t- 2: Mist + Cloudy, Mist + Broken clouds, Mist + Few clouds, Mist\n",
        "\t\t- 3: Light Snow, Light Rain + Thunderstorm + Scattered clouds, Light Rain + Scattered clouds\n",
        "\t\t- 4: Heavy Rain + Ice Pallets + Thunderstorm + Mist, Snow + Fog\n",
        "\t- temp : Normalized temperature in Celsius. The values are divided to 41 (max)\n",
        "\t- atemp: Normalized feeling temperature in Celsius. The values are divided to 50 (max)\n",
        "\t- hum: Normalized humidity. The values are divided to 100 (max)\n",
        "\t- windspeed: Normalized wind speed. The values are divided to 67 (max)\n",
        "\t- casual: count of casual users\n",
        "\t- registered: count of registered users\n",
        "\t- cnt: count of total rental bikes including both casual and registere"
      ]
    },
    {
      "cell_type": "markdown",
      "metadata": {
        "id": "5hvm-tqh1jNx"
      },
      "source": [
        "# Importing Libraries and Dataset"
      ]
    },
    {
      "cell_type": "code",
      "execution_count": null,
      "metadata": {
        "colab": {
          "base_uri": "https://localhost:8080/"
        },
        "id": "CdNLi76Z0NXO",
        "outputId": "e770f898-5ef9-48ae-ea5b-eedde45515ed"
      },
      "outputs": [
        {
          "name": "stdout",
          "output_type": "stream",
          "text": [
            "Requirement already satisfied: prophet in /usr/local/lib/python3.10/dist-packages (1.1.5)\n",
            "Requirement already satisfied: cmdstanpy>=1.0.4 in /usr/local/lib/python3.10/dist-packages (from prophet) (1.2.0)\n",
            "Requirement already satisfied: numpy>=1.15.4 in /usr/local/lib/python3.10/dist-packages (from prophet) (1.23.5)\n",
            "Requirement already satisfied: matplotlib>=2.0.0 in /usr/local/lib/python3.10/dist-packages (from prophet) (3.7.1)\n",
            "Requirement already satisfied: pandas>=1.0.4 in /usr/local/lib/python3.10/dist-packages (from prophet) (1.5.3)\n",
            "Requirement already satisfied: holidays>=0.25 in /usr/local/lib/python3.10/dist-packages (from prophet) (0.37)\n",
            "Requirement already satisfied: tqdm>=4.36.1 in /usr/local/lib/python3.10/dist-packages (from prophet) (4.66.1)\n",
            "Requirement already satisfied: importlib-resources in /usr/local/lib/python3.10/dist-packages (from prophet) (6.1.1)\n",
            "Requirement already satisfied: stanio~=0.3.0 in /usr/local/lib/python3.10/dist-packages (from cmdstanpy>=1.0.4->prophet) (0.3.0)\n",
            "Requirement already satisfied: python-dateutil in /usr/local/lib/python3.10/dist-packages (from holidays>=0.25->prophet) (2.8.2)\n",
            "Requirement already satisfied: contourpy>=1.0.1 in /usr/local/lib/python3.10/dist-packages (from matplotlib>=2.0.0->prophet) (1.2.0)\n",
            "Requirement already satisfied: cycler>=0.10 in /usr/local/lib/python3.10/dist-packages (from matplotlib>=2.0.0->prophet) (0.12.1)\n",
            "Requirement already satisfied: fonttools>=4.22.0 in /usr/local/lib/python3.10/dist-packages (from matplotlib>=2.0.0->prophet) (4.45.1)\n",
            "Requirement already satisfied: kiwisolver>=1.0.1 in /usr/local/lib/python3.10/dist-packages (from matplotlib>=2.0.0->prophet) (1.4.5)\n",
            "Requirement already satisfied: packaging>=20.0 in /usr/local/lib/python3.10/dist-packages (from matplotlib>=2.0.0->prophet) (23.2)\n",
            "Requirement already satisfied: pillow>=6.2.0 in /usr/local/lib/python3.10/dist-packages (from matplotlib>=2.0.0->prophet) (9.4.0)\n",
            "Requirement already satisfied: pyparsing>=2.3.1 in /usr/local/lib/python3.10/dist-packages (from matplotlib>=2.0.0->prophet) (3.1.1)\n",
            "Requirement already satisfied: pytz>=2020.1 in /usr/local/lib/python3.10/dist-packages (from pandas>=1.0.4->prophet) (2023.3.post1)\n",
            "Requirement already satisfied: six>=1.5 in /usr/local/lib/python3.10/dist-packages (from python-dateutil->holidays>=0.25->prophet) (1.16.0)\n"
          ]
        }
      ],
      "source": [
        "!pip install prophet\n",
        "import pandas as pd\n",
        "from prophet import Prophet\n",
        "from sklearn.model_selection import train_test_split\n",
        "import numpy as np\n",
        "from sklearn.preprocessing import StandardScaler\n",
        "from sklearn.linear_model import LinearRegression\n",
        "from sklearn.metrics import mean_squared_error, r2_score\n",
        "from sklearn.model_selection import TimeSeriesSplit, cross_val_score\n",
        "from sklearn.svm import SVR\n",
        "from sklearn.ensemble import RandomForestRegressor\n",
        "import matplotlib.pyplot as plt"
      ]
    },
    {
      "cell_type": "code",
      "execution_count": null,
      "metadata": {
        "colab": {
          "base_uri": "https://localhost:8080/"
        },
        "id": "iQ9BOtSN2YWw",
        "outputId": "67488b27-f442-4fc2-f25a-0097e2833d1d"
      },
      "outputs": [
        {
          "name": "stdout",
          "output_type": "stream",
          "text": [
            "Mounted at /content/drive\n"
          ]
        }
      ],
      "source": [
        "# Connecting Google Drive to load/store datset\n",
        "from google.colab import drive\n",
        "drive.mount('/content/drive')"
      ]
    },
    {
      "cell_type": "code",
      "execution_count": null,
      "metadata": {
        "id": "nccU_3Tc12PN"
      },
      "outputs": [],
      "source": [
        "# Importing datasets\n",
        "day = pd.read_csv('/content/drive/MyDrive/day.csv')\n",
        "hour = pd.read_csv('/content/drive/MyDrive/hour.csv')"
      ]
    },
    {
      "cell_type": "markdown",
      "metadata": {
        "id": "Ey6ADPVE3FVU"
      },
      "source": [
        "# Pre-Processing"
      ]
    },
    {
      "cell_type": "code",
      "execution_count": null,
      "metadata": {
        "colab": {
          "base_uri": "https://localhost:8080/"
        },
        "id": "hTzh5kut2kpe",
        "outputId": "6177e9da-fdc2-4c1d-b153-02ae9d0af505"
      },
      "outputs": [
        {
          "name": "stdout",
          "output_type": "stream",
          "text": [
            "\n",
            "Day DataFrame after dropping NaNs:\n",
            "(731, 16)\n",
            "\n",
            "Hour DataFrame after dropping NaNs:\n",
            "(17379, 17)\n"
          ]
        }
      ],
      "source": [
        "# Dropping NaN values\n",
        "day = day.dropna()\n",
        "hour = hour.dropna()\n",
        "\n",
        "# DataFrame after dropping NaNs\n",
        "print(\"\\nDay DataFrame after dropping NaNs:\")\n",
        "print(day.shape)\n",
        "\n",
        "print(\"\\nHour DataFrame after dropping NaNs:\")\n",
        "print(hour.shape)"
      ]
    },
    {
      "cell_type": "code",
      "execution_count": null,
      "metadata": {
        "id": "gNfRjrUR3On_"
      },
      "outputs": [],
      "source": [
        "# Ensuring date/time data is in correct format\n",
        "day['dteday'] = pd.to_datetime(day['dteday'])\n",
        "hour['dteday'] = pd.to_datetime(hour['dteday'])"
      ]
    },
    {
      "cell_type": "code",
      "execution_count": null,
      "metadata": {
        "id": "B74FzfJl4UIA"
      },
      "outputs": [],
      "source": [
        "# dropping irrelevant columns\n",
        "# Dropping dteday since these are captured in derived features\n",
        "day = day.drop(columns=['instant', 'dteday'])\n",
        "hour = hour.drop(columns=['instant', 'dteday'])"
      ]
    },
    {
      "cell_type": "code",
      "execution_count": null,
      "metadata": {
        "id": "1Zzxwyry5bcx"
      },
      "outputs": [],
      "source": [
        "# X and y\n",
        "# 1. Regression for cnt\n",
        "# 2. Regression for casual\n",
        "# 3. Regression for registered\n",
        "\n",
        "# 1.\n",
        "X1_day = day.drop(columns=['casual', 'registered', 'cnt'])\n",
        "X1_hour = hour.drop(columns=['casual', 'registered', 'cnt'])\n",
        "\n",
        "y1_day = day['cnt']\n",
        "y1_hour = hour['cnt']\n",
        "\n",
        "# 2.\n",
        "X2_day = day.drop(columns=['casual', 'registered', 'cnt'])\n",
        "X2_hour = hour.drop(columns=['casual', 'registered', 'cnt'])\n",
        "\n",
        "y2_day = day['casual']\n",
        "y2_hour = hour['casual']\n",
        "\n",
        "# 3.\n",
        "X3_day = day.drop(columns=['casual', 'registered', 'cnt'])\n",
        "X3_hour = hour.drop(columns=['casual', 'registered', 'cnt'])\n",
        "\n",
        "y3_day = day['registered']\n",
        "y3_hour = hour['registered']"
      ]
    },
    {
      "cell_type": "code",
      "execution_count": null,
      "metadata": {
        "id": "ZeYEbVqi4ytS"
      },
      "outputs": [],
      "source": [
        "# Splitting data\n",
        "# 1. Regression for cnt\n",
        "X1_train_day, X1_test_day, y1_train_day, y1_test_day = train_test_split(X1_day, y1_day, test_size=0.20, random_state=42)\n",
        "X1_train_hour, X1_test_hour, y1_train_hour, y1_test_hour = train_test_split(X1_hour, y1_hour, test_size=0.20, random_state=42)\n",
        "\n",
        "# 2. Regression for casual\n",
        "X2_train_day, X2_test_day, y2_train_day, y2_test_day = train_test_split(X2_day, y2_day, test_size=0.20, random_state=42)\n",
        "X2_train_hour, X2_test_hour, y2_train_hour, y2_test_hour = train_test_split(X2_hour, y2_hour, test_size=0.20, random_state=42)\n",
        "\n",
        "# 3. Regression for registered\n",
        "X3_train_day, X3_test_day, y3_train_day, y3_test_day = train_test_split(X3_day, y3_day, test_size=0.20, random_state=42)\n",
        "X3_train_hour, X3_test_hour, y3_train_hour, y3_test_hour = train_test_split(X3_hour, y3_hour, test_size=0.20, random_state=42)"
      ]
    },
    {
      "cell_type": "markdown",
      "metadata": {
        "id": "Xzf9sZXh7km5"
      },
      "source": [
        "# Random Forest Regressor Ensemble"
      ]
    },
    {
      "cell_type": "markdown",
      "metadata": {
        "id": "IIwoUxN38pGj"
      },
      "source": [
        "With GridSearchCV:"
      ]
    },
    {
      "cell_type": "code",
      "execution_count": null,
      "metadata": {
        "id": "TZPBPBj782Zk"
      },
      "outputs": [],
      "source": [
        "from sklearn.model_selection import GridSearchCV\n",
        "\n",
        "def get_params(x_train, y_train):\n",
        "  # Define the parameter grid\n",
        "  param_grid = {\n",
        "      'max_depth': [1, 2, 3, 4],\n",
        "      'n_estimators': [100, 300, 500],\n",
        "      'min_samples_split': [2, 6, 10],\n",
        "      'max_features': [0.2, 0.4, 0.6, 0.8, 1]\n",
        "  }\n",
        "\n",
        "  # Initialize the XGBoost Regressor\n",
        "  RF_reg = RandomForestRegressor()\n",
        "\n",
        "  # Set up GridSearchCV\n",
        "  grid_search = GridSearchCV(estimator=RF_reg, param_grid=param_grid,\n",
        "                            scoring='neg_root_mean_squared_error',\n",
        "                            cv=3, verbose=1, n_jobs=-1)\n",
        "\n",
        "  # Fit GridSearchCV\n",
        "  grid_search.fit(x_train, y_train)\n",
        "  return grid_search\n",
        "\n",
        "# params = get_params(X3_train_day, y3_train_day)"
      ]
    },
    {
      "cell_type": "code",
      "execution_count": null,
      "metadata": {
        "colab": {
          "base_uri": "https://localhost:8080/"
        },
        "id": "2Nmr_Xcr8tfR",
        "outputId": "3e4747b7-c127-4b27-eab1-c16306d64911"
      },
      "outputs": [
        {
          "name": "stdout",
          "output_type": "stream",
          "text": [
            "Fitting 3 folds for each of 180 candidates, totalling 540 fits\n",
            "RMSE #1 (total count) for day: 852.71\n",
            "R^2 Score #1 (total count) for day: 0.82\n",
            "Fitting 3 folds for each of 180 candidates, totalling 540 fits\n",
            "RMSE #1 (total count) for hour: 112.77\n",
            "R^2 Score #1 (total count) for hour: 0.60\n",
            "Fitting 3 folds for each of 180 candidates, totalling 540 fits\n",
            "RMSE #2 (total casual) for day: 287.69\n",
            "R^2 Score #2 (total casual) for day: 0.79\n",
            "Fitting 3 folds for each of 180 candidates, totalling 540 fits\n",
            "RMSE #2 (total casual) for hour: 26.13\n",
            "R^2 Score #2 (total casual) for hour: 0.70\n",
            "Fitting 3 folds for each of 180 candidates, totalling 540 fits\n",
            "RMSE #3 (total registered) for day: 755.72\n",
            "R^2 Score #3 (total registered) for day: 0.79\n",
            "Fitting 3 folds for each of 180 candidates, totalling 540 fits\n",
            "RMSE #3 (total registered) for hour: 100.29\n",
            "R^2 Score #3 (total registered) for hour: 0.54\n"
          ]
        }
      ],
      "source": [
        "\n",
        "# from sklearn.metrics import accuracy_score\n",
        "def RF_eval(X_train, y_train, X_test, y_test):\n",
        "  #initialize model\n",
        "  model = get_params(X_train, y_train)\n",
        "\n",
        "  # Predicting on the test set\n",
        "  y_pred = model.predict(X_test)\n",
        "\n",
        "  # Evaluate the performance\n",
        "  rmse = mean_squared_error(y_test, y_pred, squared=False) # false to return RMSE instead of MSE\n",
        "  r2 = r2_score(y_test, y_pred)\n",
        "\n",
        "  return rmse, r2\n",
        "\n",
        "\n",
        "RMSEs = []\n",
        "r2s = []\n",
        "\n",
        "# total count day\n",
        "mse1_train_day, r2_1_train_day = RF_eval(X1_train_day, y1_train_day, X1_test_day, y1_test_day)\n",
        "RMSEs.append(mse1_train_day)\n",
        "r2s.append(r2_1_train_day)\n",
        "print(f\"RMSE #1 (total count) for day: {mse1_train_day:.2f}\")\n",
        "print(f\"R^2 Score #1 (total count) for day: {r2_1_train_day:.2f}\")\n",
        "\n",
        "# total count hour\n",
        "mse1_train_hour, r2_1_train_hour = RF_eval(X1_train_hour, y1_train_hour, X1_test_hour, y1_test_hour)\n",
        "RMSEs.append(mse1_train_hour)\n",
        "r2s.append(r2_1_train_hour)\n",
        "print(f\"RMSE #1 (total count) for hour: {mse1_train_hour:.2f}\")\n",
        "print(f\"R^2 Score #1 (total count) for hour: {r2_1_train_hour:.2f}\")\n",
        "\n",
        "# total casual day\n",
        "mse2_train_day, r2_2_train_day = RF_eval(X2_train_day, y2_train_day, X2_test_day, y2_test_day)\n",
        "RMSEs.append(mse2_train_day)\n",
        "r2s.append(r2_2_train_day)\n",
        "print(f\"RMSE #2 (total casual) for day: {mse2_train_day:.2f}\")\n",
        "print(f\"R^2 Score #2 (total casual) for day: {r2_2_train_day:.2f}\")\n",
        "\n",
        "# total casual hour\n",
        "mse2_train_hour, r2_2_train_hour = RF_eval(X2_train_hour, y2_train_hour, X2_test_hour, y2_test_hour)\n",
        "RMSEs.append(mse2_train_hour)\n",
        "r2s.append(r2_2_train_hour)\n",
        "print(f\"RMSE #2 (total casual) for hour: {mse2_train_hour:.2f}\")\n",
        "print(f\"R^2 Score #2 (total casual) for hour: {r2_2_train_hour:.2f}\")\n",
        "\n",
        "# total registered day\n",
        "mse3_train_day, r2_3_train_day = RF_eval(X3_train_day, y3_train_day, X3_test_day, y3_test_day)\n",
        "RMSEs.append(mse3_train_day)\n",
        "r2s.append(r2_3_train_day)\n",
        "print(f\"RMSE #3 (total registered) for day: {mse3_train_day:.2f}\")\n",
        "print(f\"R^2 Score #3 (total registered) for day: {r2_3_train_day:.2f}\")\n",
        "\n",
        "# total registered hour\n",
        "mse3_train_hour, r2_3_train_hour = RF_eval(X3_train_hour, y3_train_hour, X3_test_hour, y3_test_hour)\n",
        "RMSEs.append(mse3_train_hour)\n",
        "r2s.append(r2_3_train_hour)\n",
        "print(f\"RMSE #3 (total registered) for hour: {mse3_train_hour:.2f}\")\n",
        "print(f\"R^2 Score #3 (total registered) for hour: {r2_3_train_hour:.2f}\")"
      ]
    },
    {
      "cell_type": "markdown",
      "metadata": {
        "id": "Rj3iNmmPLAWJ"
      },
      "source": [
        "Without GridSearchCV"
      ]
    },
    {
      "cell_type": "code",
      "execution_count": null,
      "metadata": {
        "colab": {
          "base_uri": "https://localhost:8080/"
        },
        "id": "NX8bHMYk_cZ8",
        "outputId": "2f5ead1f-cee7-479c-8623-ce0c3d448a6e"
      },
      "outputs": [
        {
          "name": "stdout",
          "output_type": "stream",
          "text": [
            "Average MSE for #1 (total count) for \"day\" df: 783.1036091388861\n",
            "Average R2 for #1 (total count) for \"day\" df: 0.8163437443532517\n",
            "\n",
            "\n",
            "Test MSE for #1 (total count) for \"day\" df: 452486.85417278914\n",
            "Test R2 for #1 (total count) for \"day\" df: 0.8871570730489857\n",
            "\n",
            "\n",
            "Average MSE for #1 (total count) for \"hour\" df: 50.77326322690458\n",
            "Average R2 for #1 (total count) for \"hour\" df: 0.9221549825750202\n",
            "\n",
            "\n",
            "Test MSE for #1 (total count) for \"hour\" df: 1770.5243179342397\n",
            "Test R2 for #1 (total count) for \"hour\" df: 0.9440864892256803\n",
            "\n",
            "\n",
            "Average MSE for #2 (casuals only) for \"day\" df: 783.1036091388861\n",
            "Average R2 for #2 (casuals only) for \"day\" df: 0.7521524839694476\n",
            "\n",
            "\n",
            "Test MSE for #2 (casuals only) for \"day\" df: 72038.74680068027\n",
            "Test R2 for #2 (casuals only) for \"day\" df: 0.8150972513338108\n",
            "\n",
            "\n",
            "Average MSE for #2 (casuals only) for \"hour\" df: 16.519830018361006\n",
            "Average R2 for #2 (casuals only) for \"hour\" df: 0.8864033886142699\n",
            "\n",
            "\n",
            "Test MSE for #2 (casuals only) for \"hour\" df: 192.51194440389443\n",
            "Test R2 for #2 (casuals only) for \"hour\" df: 0.9162195299875554\n",
            "\n",
            "\n",
            "Average MSE for #3 (registered only) for \"day\" df: 690.7835231525129\n",
            "Average R2 for #3 (registered only) for \"day\" df: 0.7703598482615692\n",
            "\n",
            "\n",
            "Test MSE for #3 (registered only) for \"day\" df: 316408.9617714286\n",
            "Test R2 for #3 (registered only) for \"day\" df: 0.8845716947894979\n",
            "\n",
            "\n",
            "Average MSE for #3 (registered only) for \"hour\" df: 39.9609468453496\n",
            "Average R2 for #3 (registered only) for \"hour\" df: 0.93086873306592\n",
            "\n",
            "\n",
            "Test MSE for #3 (registered only) for \"hour\" df: 1237.503564215965\n",
            "Test R2 for #3 (registered only) for \"hour\" df: 0.9439388463808176\n",
            "\n",
            "\n"
          ]
        }
      ],
      "source": [
        "# TimeSeriesSplit for cross-validation\n",
        "tscv = TimeSeriesSplit(n_splits=5)\n",
        "\n",
        "model = RandomForestRegressor()\n",
        "\n",
        "MSEs = []\n",
        "r2s = []\n",
        "\n",
        "# train day total cnt\n",
        "mse_1_day = -cross_val_score(model, X1_train_day, y1_train_day, cv=tscv, scoring='neg_root_mean_squared_error')\n",
        "print('Average MSE for #1 (total count) for \"day\" df:', np.mean(mse_1_day))\n",
        "r2_1_day = cross_val_score(model, X1_train_day, y1_train_day, cv=tscv, scoring='r2')\n",
        "print('Average R2 for #1 (total count) for \"day\" df:', np.mean(r2_1_day))\n",
        "print('\\n')\n",
        "\n",
        "# test day total cnt\n",
        "model.fit(X1_train_day, y1_train_day)\n",
        "y1_pred = model.predict(X1_test_day)\n",
        "test_mse = mean_squared_error(y1_test_day, y1_pred)\n",
        "print('Test MSE for #1 (total count) for \"day\" df:', test_mse)\n",
        "test_r2 = r2_score(y1_test_day, y1_pred)\n",
        "print('Test R2 for #1 (total count) for \"day\" df:', test_r2)\n",
        "MSEs.append(test_mse)\n",
        "r2s.append(test_r2)\n",
        "print('\\n')\n",
        "\n",
        "# train hour total cnt\n",
        "mse_1_hour = -cross_val_score(model, X1_train_hour, y1_train_hour, cv=tscv, scoring='neg_root_mean_squared_error')\n",
        "print('Average MSE for #1 (total count) for \"hour\" df:', np.mean(mse_1_hour))\n",
        "r2_1_hour = cross_val_score(model, X1_train_hour, y1_train_hour, cv=tscv, scoring='r2')\n",
        "print('Average R2 for #1 (total count) for \"hour\" df:', np.mean(r2_1_hour))\n",
        "print('\\n')\n",
        "\n",
        "# test hour total cnt\n",
        "model.fit(X1_train_hour, y1_train_hour)\n",
        "y1_pred = model.predict(X1_test_hour)\n",
        "test_mse = mean_squared_error(y1_test_hour, y1_pred)\n",
        "print('Test MSE for #1 (total count) for \"hour\" df:', test_mse)\n",
        "test_r2 = r2_score(y1_test_hour, y1_pred)\n",
        "print('Test R2 for #1 (total count) for \"hour\" df:', test_r2)\n",
        "MSEs.append(test_mse)\n",
        "r2s.append(test_r2)\n",
        "print('\\n')\n",
        "\n",
        "# train day casual\n",
        "mse_2_day = -cross_val_score(model, X2_train_day, y2_train_day, cv=tscv, scoring='neg_root_mean_squared_error')\n",
        "print('Average MSE for #2 (casuals only) for \"day\" df:', np.mean(mse_1_day))\n",
        "r2_2_day = cross_val_score(model, X2_train_day, y2_train_day, cv=tscv, scoring='r2')\n",
        "print('Average R2 for #2 (casuals only) for \"day\" df:', np.mean(r2_2_day))\n",
        "print('\\n')\n",
        "\n",
        "# test day casual\n",
        "model.fit(X2_train_day, y2_train_day)\n",
        "y2_pred = model.predict(X2_test_day)\n",
        "test_mse = mean_squared_error(y2_test_day, y2_pred)\n",
        "print('Test MSE for #2 (casuals only) for \"day\" df:', test_mse)\n",
        "test_r2 = r2_score(y2_test_day, y2_pred)\n",
        "print('Test R2 for #2 (casuals only) for \"day\" df:', test_r2)\n",
        "MSEs.append(test_mse)\n",
        "r2s.append(test_r2)\n",
        "print('\\n')\n",
        "\n",
        "# train hour casual\n",
        "mse_2_hour = -cross_val_score(model, X2_train_hour, y2_train_hour, cv=tscv, scoring='neg_root_mean_squared_error')\n",
        "print('Average MSE for #2 (casuals only) for \"hour\" df:', np.mean(mse_2_hour))\n",
        "r2_2_hour = cross_val_score(model, X2_train_hour, y2_train_hour, cv=tscv, scoring='r2')\n",
        "print('Average R2 for #2 (casuals only) for \"hour\" df:', np.mean(r2_2_hour))\n",
        "print('\\n')\n",
        "\n",
        "# test hour casual\n",
        "model.fit(X2_train_hour, y2_train_hour)\n",
        "y2_pred = model.predict(X2_test_hour)\n",
        "test_mse = mean_squared_error(y2_test_hour, y2_pred)\n",
        "print('Test MSE for #2 (casuals only) for \"hour\" df:', test_mse)\n",
        "test_r2 = r2_score(y2_test_hour, y2_pred)\n",
        "print('Test R2 for #2 (casuals only) for \"hour\" df:', test_r2)\n",
        "MSEs.append(test_mse)\n",
        "r2s.append(test_r2)\n",
        "print('\\n')\n",
        "\n",
        "# train day registered\n",
        "mse_3_day = -cross_val_score(model, X3_train_day, y3_train_day, cv=tscv, scoring='neg_root_mean_squared_error')\n",
        "print('Average MSE for #3 (registered only) for \"day\" df:', np.mean(mse_3_day))\n",
        "r2_3_day = cross_val_score(model, X3_train_day, y3_train_day, cv=tscv, scoring='r2')\n",
        "print('Average R2 for #3 (registered only) for \"day\" df:', np.mean(r2_3_day))\n",
        "print('\\n')\n",
        "\n",
        "# test day registered\n",
        "model.fit(X3_train_day, y3_train_day)\n",
        "y3_pred = model.predict(X3_test_day)\n",
        "test_mse = mean_squared_error(y3_test_day, y3_pred)\n",
        "print('Test MSE for #3 (registered only) for \"day\" df:', test_mse)\n",
        "test_r2 = r2_score(y3_test_day, y3_pred)\n",
        "print('Test R2 for #3 (registered only) for \"day\" df:', test_r2)\n",
        "MSEs.append(test_mse)\n",
        "r2s.append(test_r2)\n",
        "print('\\n')\n",
        "\n",
        "# train hour registered\n",
        "mse_3_hour = -cross_val_score(model, X3_train_hour, y3_train_hour, cv=tscv, scoring='neg_root_mean_squared_error')\n",
        "print('Average MSE for #3 (registered only) for \"hour\" df:', np.mean(mse_3_hour))\n",
        "r2_3_hour = cross_val_score(model, X3_train_hour, y3_train_hour, cv=tscv, scoring='r2')\n",
        "print('Average R2 for #3 (registered only) for \"hour\" df:', np.mean(r2_3_hour))\n",
        "print('\\n')\n",
        "\n",
        "# test hour registered\n",
        "model.fit(X3_train_hour, y3_train_hour)\n",
        "y3_pred = model.predict(X3_test_hour)\n",
        "test_mse = mean_squared_error(y3_test_hour, y3_pred)\n",
        "print('Test MSE for #3 (registered only) for \"hour\" df:', test_mse)\n",
        "test_r2 = r2_score(y3_test_hour, y3_pred)\n",
        "print('Test R2 for #3 (registered only) for \"hour\" df:', test_r2)\n",
        "MSEs.append(test_mse)\n",
        "r2s.append(test_r2)\n",
        "print('\\n')"
      ]
    },
    {
      "cell_type": "markdown",
      "metadata": {
        "id": "Oow6Di1oLEhK"
      },
      "source": [
        "Graphing:"
      ]
    },
    {
      "cell_type": "code",
      "execution_count": null,
      "metadata": {
        "colab": {
          "base_uri": "https://localhost:8080/",
          "height": 485
        },
        "id": "eHP4OOuRK-xZ",
        "outputId": "57e6b593-1f59-47e8-f6b9-c33716c52d6d"
      },
      "outputs": [
        {
          "data": {
            "text/plain": [
              "Text(0.5, 1.0, 'Mean Squared Error for Hourly Dataset')"
            ]
          },
          "execution_count": 13,
          "metadata": {},
          "output_type": "execute_result"
        },
        {
          "data": {
            "image/png": "[encoded data removed]",
            "text/plain": [
              "<Figure size 1000x500 with 2 Axes>"
            ]
          },
          "metadata": {},
          "output_type": "display_data"
        }
      ],
      "source": [
        "\n",
        "labels = ['Day Total', 'Hour Total',\n",
        "          'Day Casual', 'Hour Casual',\n",
        "          'Day Registered', 'Hour Registered']\n",
        "f, (ax1, ax2) = plt.subplots(1, 2,figsize=(10,5))\n",
        "\n",
        "for i, j in zip(labels, MSEs):\n",
        "  if 'Day' in i:\n",
        "    ax1.bar(i, j)\n",
        "  else:\n",
        "    ax2.bar(i, j)\n",
        "\n",
        "ax1.set_title('Mean Squared Error for Daily Dataset')\n",
        "\n",
        "ax2.set_title('Mean Squared Error for Hourly Dataset')\n",
        "\n"
      ]
    },
    {
      "cell_type": "code",
      "execution_count": null,
      "metadata": {
        "colab": {
          "base_uri": "https://localhost:8080/",
          "height": 485
        },
        "id": "xpF7ZqcEeWYr",
        "outputId": "a59887da-a4ba-46ad-cd18-4a354eda2940"
      },
      "outputs": [
        {
          "data": {
            "text/plain": [
              "Text(0.5, 1.0, 'R2 Score for Hourly Dataset')"
            ]
          },
          "execution_count": 14,
          "metadata": {},
          "output_type": "execute_result"
        },
        {
          "data": {
            "image/png": "[encoded data removed]",
            "text/plain": [
              "<Figure size 1000x500 with 2 Axes>"
            ]
          },
          "metadata": {},
          "output_type": "display_data"
        }
      ],
      "source": [
        "f, (ax1, ax2) = plt.subplots(1, 2,figsize=(10,5))\n",
        "\n",
        "for i, j in zip(labels, r2s):\n",
        "  if 'Day' in i:\n",
        "    ax1.bar(i, j)\n",
        "  else:\n",
        "    ax2.bar(i, j)\n",
        "\n",
        "ax1.set_title('R2 Score for Daily Dataset')\n",
        "ax2.set_title('R2 Score for Hourly Dataset')\n",
        "\n"
      ]
    },
    {
      "cell_type": "code",
      "execution_count": null,
      "metadata": {
        "colab": {
          "base_uri": "https://localhost:8080/",
          "height": 504
        },
        "id": "mq-bZN-KfKnS",
        "outputId": "a6b0b38d-080c-4caf-8a64-61fdd2dac663"
      },
      "outputs": [
        {
          "name": "stdout",
          "output_type": "stream",
          "text": [
            "(3476,)\n",
            "(3476,)\n"
          ]
        },
        {
          "data": {
            "text/plain": [
              "Text(0.5, 1.0, 'Actual vs Predicted for Hourly Registered Dataset')"
            ]
          },
          "execution_count": 15,
          "metadata": {},
          "output_type": "execute_result"
        },
        {
          "data": {
            "image/png": "[encoded data removed]",
            "text/plain": [
              "<Figure size 640x480 with 1 Axes>"
            ]
          },
          "metadata": {},
          "output_type": "display_data"
        }
      ],
      "source": [
        "# graphical output for last model Hourly Registered\n",
        "print(y3_pred.shape)\n",
        "print(y3_test_hour.shape)\n",
        "plt.plot(y3_test_hour, y3_pred, '.')\n",
        "plt.title('Actual vs Predicted for Hourly Registered Dataset')\n",
        "# plt.plot(y3_test_hour, '.')"
      ]
    },
    {
      "cell_type": "markdown",
      "metadata": {
        "id": "WOgaKzMD3D00"
      },
      "source": [
        "# RF Regression with PCA"
      ]
    },
    {
      "cell_type": "code",
      "execution_count": null,
      "metadata": {
        "colab": {
          "base_uri": "https://localhost:8080/"
        },
        "id": "Cc0GlXMd3C_v",
        "outputId": "c5816a76-2552-409e-a6d0-46623e3e9b78"
      },
      "outputs": [
        {
          "name": "stdout",
          "output_type": "stream",
          "text": [
            "Explained Variance Ratio: [0.92950567 0.07049185]\n",
            "Features: ['pca0' 'pca1']\n",
            "Explained Variance Ratio: [0.96098056 0.03802317]\n",
            "Features: <bound method ClassNamePrefixFeaturesOutMixin.get_feature_names_out of PCA(n_components=2)>\n"
          ]
        },
        {
          "data": {
            "text/plain": [
              "array(['pca0', 'pca1'], dtype=object)"
            ]
          },
          "execution_count": 16,
          "metadata": {},
          "output_type": "execute_result"
        }
      ],
      "source": [
        "from sklearn.decomposition import PCA\n",
        "pca_day = PCA(n_components=2)  # Adjust n_components as needed\n",
        "pca_day_result = pca_day.fit_transform(day)\n",
        "\n",
        "# Explained variance ratio\n",
        "print(\"Explained Variance Ratio:\", pca_day.explained_variance_ratio_)\n",
        "print(\"Features:\", pca_day.get_feature_names_out())\n",
        "\n",
        "pca_hour = PCA(n_components=2)  # Adjust n_components as needed\n",
        "pca_hour_result = pca_hour.fit_transform(hour)\n",
        "\n",
        "# Explained variance ratio\n",
        "print(\"Explained Variance Ratio:\", pca_hour.explained_variance_ratio_)\n",
        "print(\"Features:\", pca_hour.get_feature_names_out)\n",
        "pca_day.get_feature_names_out()"
      ]
    },
    {
      "cell_type": "code",
      "execution_count": null,
      "metadata": {
        "id": "7ikTbKkMUi_c"
      },
      "outputs": [],
      "source": [
        "# Reconstruct data using the first two principal components\n",
        "reconstructed_data = pca_day.inverse_transform(pca_day_result)\n",
        "reconstructed_day = pd.DataFrame(reconstructed_data, columns=day.columns, index=day.index)"
      ]
    },
    {
      "cell_type": "code",
      "execution_count": null,
      "metadata": {
        "id": "42tuZUstUp8Y"
      },
      "outputs": [],
      "source": [
        "# Reconstruct data using the first two principal components\n",
        "reconstructed_data_hour = pca_hour.inverse_transform(pca_hour_result)\n",
        "reconstructed_hour = pd.DataFrame(reconstructed_data_hour, columns=hour.columns, index=hour.index)"
      ]
    },
    {
      "cell_type": "code",
      "execution_count": null,
      "metadata": {
        "id": "b20O8fU5VH6n"
      },
      "outputs": [],
      "source": [
        "# X and y\n",
        "# 1. for cnt\n",
        "# 2. for casual\n",
        "# 3. for registered\n",
        "\n",
        "# 1.\n",
        "X1_day = reconstructed_day.drop(columns=['casual', 'registered', 'cnt'])\n",
        "X1_hour = reconstructed_hour.drop(columns=['casual', 'registered', 'cnt'])\n",
        "\n",
        "y1_day = reconstructed_day['cnt']\n",
        "y1_hour = reconstructed_hour['cnt']\n",
        "\n",
        "# 2.\n",
        "X2_day = reconstructed_day.drop(columns=['casual', 'registered', 'cnt'])\n",
        "X2_hour = reconstructed_hour.drop(columns=['casual', 'registered', 'cnt'])\n",
        "\n",
        "y2_day = reconstructed_day['casual']\n",
        "y2_hour = reconstructed_hour['casual']\n",
        "\n",
        "# 3.\n",
        "X3_day = reconstructed_day.drop(columns=['casual', 'registered', 'cnt'])\n",
        "X3_hour = reconstructed_hour.drop(columns=['casual', 'registered', 'cnt'])\n",
        "\n",
        "y3_day = reconstructed_day['registered']\n",
        "y3_hour = reconstructed_hour['registered']"
      ]
    },
    {
      "cell_type": "code",
      "execution_count": null,
      "metadata": {
        "id": "Xt8jc-FOVsOj"
      },
      "outputs": [],
      "source": [
        "# Splitting data\n",
        "# 1. for cnt\n",
        "X1_train_day, X1_test_day, y1_train_day, y1_test_day = train_test_split(X1_day, y1_day, test_size=0.20, random_state=42)\n",
        "X1_train_hour, X1_test_hour, y1_train_hour, y1_test_hour = train_test_split(X1_hour, y1_hour, test_size=0.20, random_state=42)\n",
        "\n",
        "# 2. for casual\n",
        "X2_train_day, X2_test_day, y2_train_day, y2_test_day = train_test_split(X2_day, y2_day, test_size=0.20, random_state=42)\n",
        "X2_train_hour, X2_test_hour, y2_train_hour, y2_test_hour = train_test_split(X2_hour, y2_hour, test_size=0.20, random_state=42)\n",
        "\n",
        "# 3. for registered\n",
        "X3_train_day, X3_test_day, y3_train_day, y3_test_day = train_test_split(X3_day, y3_day, test_size=0.20, random_state=42)\n",
        "X3_train_hour, X3_test_hour, y3_train_hour, y3_test_hour = train_test_split(X3_hour, y3_hour, test_size=0.20, random_state=42)"
      ]
    },
    {
      "cell_type": "code",
      "execution_count": null,
      "metadata": {
        "id": "xfa1CxLftXl-"
      },
      "outputs": [],
      "source": [
        "from sklearn.model_selection import GridSearchCV\n",
        "\n",
        "def get_params(x_train, y_train):\n",
        "  # Define the parameter grid\n",
        "  param_grid = {\n",
        "      'max_depth': [1, 2, 3, 4],\n",
        "      # 'n_estimators': [100, 300, 500],\n",
        "      'min_samples_split': [2, 6, 10],\n",
        "      'max_features': [0.2, 0.4, 0.6, 0.8, 1]\n",
        "  }\n",
        "\n",
        "  # Initialize the XGBoost Regressor\n",
        "  RF_reg = RandomForestRegressor()\n",
        "\n",
        "  # Set up GridSearchCV\n",
        "  grid_search = GridSearchCV(estimator=RF_reg, param_grid=param_grid,\n",
        "                            scoring='neg_root_mean_squared_error',\n",
        "                            cv=3, verbose=1, n_jobs=-1)\n",
        "\n",
        "  # Fit GridSearchCV\n",
        "  grid_search.fit(x_train, y_train)\n",
        "  return grid_search\n",
        "\n",
        "# params = get_params(X3_train_day, y3_train_day)"
      ]
    },
    {
      "cell_type": "code",
      "execution_count": null,
      "metadata": {
        "colab": {
          "background_save": true,
          "base_uri": "https://localhost:8080/"
        },
        "id": "Oejtg6VQxrmQ",
        "outputId": "4cd26c83-2739-4779-de7e-23a68d9c9d85"
      },
      "outputs": [
        {
          "name": "stdout",
          "output_type": "stream",
          "text": [
            "Fitting 3 folds for each of 60 candidates, totalling 180 fits\n",
            "RMSE #1 (total count) for day: 127.53\n",
            "R^2 Score #1 (total count) for day: 1.00\n",
            "Fitting 3 folds for each of 60 candidates, totalling 180 fits\n",
            "RMSE #1 (total count) for hour: 8.08\n",
            "R^2 Score #1 (total count) for hour: 1.00\n",
            "Fitting 3 folds for each of 60 candidates, totalling 180 fits\n",
            "RMSE #2 (total casual) for day: 115.36\n",
            "R^2 Score #2 (total casual) for day: 0.97\n",
            "Fitting 3 folds for each of 60 candidates, totalling 180 fits\n",
            "RMSE #2 (total casual) for hour: 4.88\n",
            "R^2 Score #2 (total casual) for hour: 0.99\n",
            "Fitting 3 folds for each of 60 candidates, totalling 180 fits\n",
            "RMSE #3 (total registered) for day: 80.21\n",
            "R^2 Score #3 (total registered) for day: 1.00\n",
            "Fitting 3 folds for each of 60 candidates, totalling 180 fits\n",
            "RMSE #3 (total registered) for hour: 10.40\n",
            "R^2 Score #3 (total registered) for hour: 1.00\n"
          ]
        }
      ],
      "source": [
        "\n",
        "# from sklearn.metrics import accuracy_score\n",
        "def RF_eval(X_train, y_train, X_test, y_test):\n",
        "  #initialize model\n",
        "  model = get_params(X_train, y_train)\n",
        "\n",
        "  # Predicting on the test set\n",
        "  y_pred = model.predict(X_test)\n",
        "\n",
        "  # Evaluate the performance\n",
        "  rmse = mean_squared_error(y_test, y_pred, squared=False) # false to return RMSE instead of MSE\n",
        "  r2 = r2_score(y_test, y_pred)\n",
        "\n",
        "  return rmse, r2\n",
        "\n",
        "\n",
        "RMSEs = []\n",
        "r2s = []\n",
        "\n",
        "# total count day\n",
        "mse1_train_day, r2_1_train_day = RF_eval(X1_train_day, y1_train_day, X1_test_day, y1_test_day)\n",
        "RMSEs.append(mse1_train_day)\n",
        "r2s.append(r2_1_train_day)\n",
        "print(f\"RMSE #1 (total count) for day: {mse1_train_day:.2f}\")\n",
        "print(f\"R^2 Score #1 (total count) for day: {r2_1_train_day:.2f}\")\n",
        "\n",
        "# total count hour\n",
        "mse1_train_hour, r2_1_train_hour = RF_eval(X1_train_hour, y1_train_hour, X1_test_hour, y1_test_hour)\n",
        "RMSEs.append(mse1_train_hour)\n",
        "r2s.append(r2_1_train_hour)\n",
        "print(f\"RMSE #1 (total count) for hour: {mse1_train_hour:.2f}\")\n",
        "print(f\"R^2 Score #1 (total count) for hour: {r2_1_train_hour:.2f}\")\n",
        "\n",
        "# total casual day\n",
        "mse2_train_day, r2_2_train_day = RF_eval(X2_train_day, y2_train_day, X2_test_day, y2_test_day)\n",
        "RMSEs.append(mse2_train_day)\n",
        "r2s.append(r2_2_train_day)\n",
        "print(f\"RMSE #2 (total casual) for day: {mse2_train_day:.2f}\")\n",
        "print(f\"R^2 Score #2 (total casual) for day: {r2_2_train_day:.2f}\")\n",
        "\n",
        "# total casual hour\n",
        "mse2_train_hour, r2_2_train_hour = RF_eval(X2_train_hour, y2_train_hour, X2_test_hour, y2_test_hour)\n",
        "RMSEs.append(mse2_train_hour)\n",
        "r2s.append(r2_2_train_hour)\n",
        "print(f\"RMSE #2 (total casual) for hour: {mse2_train_hour:.2f}\")\n",
        "print(f\"R^2 Score #2 (total casual) for hour: {r2_2_train_hour:.2f}\")\n",
        "\n",
        "# total registered day\n",
        "mse3_train_day, r2_3_train_day = RF_eval(X3_train_day, y3_train_day, X3_test_day, y3_test_day)\n",
        "RMSEs.append(mse3_train_day)\n",
        "r2s.append(r2_3_train_day)\n",
        "print(f\"RMSE #3 (total registered) for day: {mse3_train_day:.2f}\")\n",
        "print(f\"R^2 Score #3 (total registered) for day: {r2_3_train_day:.2f}\")\n",
        "\n",
        "# total registered hour\n",
        "mse3_train_hour, r2_3_train_hour = RF_eval(X3_train_hour, y3_train_hour, X3_test_hour, y3_test_hour)\n",
        "RMSEs.append(mse3_train_hour)\n",
        "r2s.append(r2_3_train_hour)\n",
        "print(f\"RMSE #3 (total registered) for hour: {mse3_train_hour:.2f}\")\n",
        "print(f\"R^2 Score #3 (total registered) for hour: {r2_3_train_hour:.2f}\")"
      ]
    },
    {
      "cell_type": "code",
      "execution_count": null,
      "metadata": {
        "colab": {
          "background_save": true
        },
        "id": "30HuidGQViAt",
        "outputId": "7415ccef-c980-4e36-d347-40bcca5ae365"
      },
      "outputs": [
        {
          "name": "stdout",
          "output_type": "stream",
          "text": [
            "Average MSE for #1 (total count) for \"day\" df: 108.3831532769052\n",
            "Average R2 for #1 (total count) for \"day\" df: 0.99548970922795\n",
            "\n",
            "\n",
            "Test MSE for #1 (total count) for \"day\" df: 3639.907153786979\n",
            "Test R2 for #1 (total count) for \"day\" df: 0.9990922657686723\n",
            "\n",
            "\n",
            "Average MSE for #1 (total count) for \"hour\" df: 1.6126989955003534\n",
            "Average R2 for #1 (total count) for \"hour\" df: 0.9998882049954408\n",
            "\n",
            "\n",
            "Test MSE for #1 (total count) for \"hour\" df: 0.7017288481238286\n",
            "Test R2 for #1 (total count) for \"hour\" df: 0.9999778395742129\n",
            "\n",
            "\n",
            "Average MSE for #2 (casuals only) for \"day\" df: 108.3831532769052\n",
            "Average R2 for #2 (casuals only) for \"day\" df: 0.9813696007340476\n",
            "\n",
            "\n",
            "Test MSE for #2 (casuals only) for \"day\" df: 2581.357726398212\n",
            "Test R2 for #2 (casuals only) for \"day\" df: 0.9933743989883985\n",
            "\n",
            "\n",
            "Average MSE for #2 (casuals only) for \"hour\" df: 1.0279043814438862\n",
            "Average R2 for #2 (casuals only) for \"hour\" df: 0.9994857169641588\n",
            "\n",
            "\n",
            "Test MSE for #2 (casuals only) for \"hour\" df: 0.5021655204071148\n",
            "Test R2 for #2 (casuals only) for \"hour\" df: 0.9997814645910285\n",
            "\n",
            "\n",
            "Average MSE for #3 (registered only) for \"day\" df: 64.08242269418272\n",
            "Average R2 for #3 (registered only) for \"day\" df: 0.9979893927392862\n",
            "\n",
            "\n",
            "Test MSE for #3 (registered only) for \"day\" df: 1809.2597131413343\n",
            "Test R2 for #3 (registered only) for \"day\" df: 0.9993399687365878\n",
            "\n",
            "\n",
            "Average MSE for #3 (registered only) for \"hour\" df: 1.8587706102559125\n",
            "Average R2 for #3 (registered only) for \"hour\" df: 0.9998181244688563\n",
            "\n",
            "\n",
            "Test MSE for #3 (registered only) for \"hour\" df: 1.0603847360545295\n",
            "Test R2 for #3 (registered only) for \"hour\" df: 0.9999519627079992\n",
            "\n",
            "\n"
          ]
        }
      ],
      "source": [
        "# TimeSeriesSplit for cross-validation\n",
        "tscv = TimeSeriesSplit(n_splits=5)\n",
        "\n",
        "model = RandomForestRegressor()\n",
        "\n",
        "MSEs_PCA = []\n",
        "r2s_PCA = []\n",
        "\n",
        "# train day total cnt\n",
        "mse_1_day = -cross_val_score(model, X1_train_day, y1_train_day, cv=tscv, scoring='neg_root_mean_squared_error')\n",
        "print('Average MSE for #1 (total count) for \"day\" df:', np.mean(mse_1_day))\n",
        "r2_1_day = cross_val_score(model, X1_train_day, y1_train_day, cv=tscv, scoring='r2')\n",
        "print('Average R2 for #1 (total count) for \"day\" df:', np.mean(r2_1_day))\n",
        "print('\\n')\n",
        "\n",
        "# test day total cnt\n",
        "model.fit(X1_train_day, y1_train_day)\n",
        "y1_pred = model.predict(X1_test_day)\n",
        "test_mse = mean_squared_error(y1_test_day, y1_pred)\n",
        "print('Test MSE for #1 (total count) for \"day\" df:', test_mse)\n",
        "test_r2 = r2_score(y1_test_day, y1_pred)\n",
        "print('Test R2 for #1 (total count) for \"day\" df:', test_r2)\n",
        "MSEs_PCA.append(test_mse)\n",
        "r2s_PCA.append(test_r2)\n",
        "print('\\n')\n",
        "\n",
        "# train hour total cnt\n",
        "mse_1_hour = -cross_val_score(model, X1_train_hour, y1_train_hour, cv=tscv, scoring='neg_root_mean_squared_error')\n",
        "print('Average MSE for #1 (total count) for \"hour\" df:', np.mean(mse_1_hour))\n",
        "r2_1_hour = cross_val_score(model, X1_train_hour, y1_train_hour, cv=tscv, scoring='r2')\n",
        "print('Average R2 for #1 (total count) for \"hour\" df:', np.mean(r2_1_hour))\n",
        "print('\\n')\n",
        "\n",
        "# test hour total cnt\n",
        "model.fit(X1_train_hour, y1_train_hour)\n",
        "y1_pred = model.predict(X1_test_hour)\n",
        "test_mse = mean_squared_error(y1_test_hour, y1_pred)\n",
        "print('Test MSE for #1 (total count) for \"hour\" df:', test_mse)\n",
        "test_r2 = r2_score(y1_test_hour, y1_pred)\n",
        "print('Test R2 for #1 (total count) for \"hour\" df:', test_r2)\n",
        "MSEs_PCA.append(test_mse)\n",
        "r2s_PCA.append(test_r2)\n",
        "print('\\n')\n",
        "\n",
        "# train day casual\n",
        "mse_2_day = -cross_val_score(model, X2_train_day, y2_train_day, cv=tscv, scoring='neg_root_mean_squared_error')\n",
        "print('Average MSE for #2 (casuals only) for \"day\" df:', np.mean(mse_1_day))\n",
        "r2_2_day = cross_val_score(model, X2_train_day, y2_train_day, cv=tscv, scoring='r2')\n",
        "print('Average R2 for #2 (casuals only) for \"day\" df:', np.mean(r2_2_day))\n",
        "print('\\n')\n",
        "\n",
        "# test day casual\n",
        "model.fit(X2_train_day, y2_train_day)\n",
        "y2_pred = model.predict(X2_test_day)\n",
        "test_mse = mean_squared_error(y2_test_day, y2_pred)\n",
        "print('Test MSE for #2 (casuals only) for \"day\" df:', test_mse)\n",
        "test_r2 = r2_score(y2_test_day, y2_pred)\n",
        "print('Test R2 for #2 (casuals only) for \"day\" df:', test_r2)\n",
        "MSEs_PCA.append(test_mse)\n",
        "r2s_PCA.append(test_r2)\n",
        "print('\\n')\n",
        "\n",
        "# train hour casual\n",
        "mse_2_hour = -cross_val_score(model, X2_train_hour, y2_train_hour, cv=tscv, scoring='neg_root_mean_squared_error')\n",
        "print('Average MSE for #2 (casuals only) for \"hour\" df:', np.mean(mse_2_hour))\n",
        "r2_2_hour = cross_val_score(model, X2_train_hour, y2_train_hour, cv=tscv, scoring='r2')\n",
        "print('Average R2 for #2 (casuals only) for \"hour\" df:', np.mean(r2_2_hour))\n",
        "print('\\n')\n",
        "\n",
        "# test hour casual\n",
        "model.fit(X2_train_hour, y2_train_hour)\n",
        "y2_pred = model.predict(X2_test_hour)\n",
        "test_mse = mean_squared_error(y2_test_hour, y2_pred)\n",
        "print('Test MSE for #2 (casuals only) for \"hour\" df:', test_mse)\n",
        "test_r2 = r2_score(y2_test_hour, y2_pred)\n",
        "print('Test R2 for #2 (casuals only) for \"hour\" df:', test_r2)\n",
        "MSEs_PCA.append(test_mse)\n",
        "r2s_PCA.append(test_r2)\n",
        "print('\\n')\n",
        "\n",
        "# train day registered\n",
        "mse_3_day = -cross_val_score(model, X3_train_day, y3_train_day, cv=tscv, scoring='neg_root_mean_squared_error')\n",
        "print('Average MSE for #3 (registered only) for \"day\" df:', np.mean(mse_3_day))\n",
        "r2_3_day = cross_val_score(model, X3_train_day, y3_train_day, cv=tscv, scoring='r2')\n",
        "print('Average R2 for #3 (registered only) for \"day\" df:', np.mean(r2_3_day))\n",
        "print('\\n')\n",
        "\n",
        "# test day registered\n",
        "model.fit(X3_train_day, y3_train_day)\n",
        "y3_pred = model.predict(X3_test_day)\n",
        "test_mse = mean_squared_error(y3_test_day, y3_pred)\n",
        "print('Test MSE for #3 (registered only) for \"day\" df:', test_mse)\n",
        "test_r2 = r2_score(y3_test_day, y3_pred)\n",
        "print('Test R2 for #3 (registered only) for \"day\" df:', test_r2)\n",
        "MSEs_PCA.append(test_mse)\n",
        "r2s_PCA.append(test_r2)\n",
        "print('\\n')\n",
        "\n",
        "# train hour registered\n",
        "mse_3_hour = -cross_val_score(model, X3_train_hour, y3_train_hour, cv=tscv, scoring='neg_root_mean_squared_error')\n",
        "print('Average MSE for #3 (registered only) for \"hour\" df:', np.mean(mse_3_hour))\n",
        "r2_3_hour = cross_val_score(model, X3_train_hour, y3_train_hour, cv=tscv, scoring='r2')\n",
        "print('Average R2 for #3 (registered only) for \"hour\" df:', np.mean(r2_3_hour))\n",
        "print('\\n')\n",
        "\n",
        "# test hour registered\n",
        "model.fit(X3_train_hour, y3_train_hour)\n",
        "y3_pred = model.predict(X3_test_hour)\n",
        "test_mse = mean_squared_error(y3_test_hour, y3_pred)\n",
        "print('Test MSE for #3 (registered only) for \"hour\" df:', test_mse)\n",
        "test_r2 = r2_score(y3_test_hour, y3_pred)\n",
        "print('Test R2 for #3 (registered only) for \"hour\" df:', test_r2)\n",
        "MSEs_PCA.append(test_mse)\n",
        "r2s_PCA.append(test_r2)\n",
        "print('\\n')"
      ]
    },
    {
      "cell_type": "code",
      "execution_count": null,
      "metadata": {
        "colab": {
          "background_save": true
        },
        "id": "Hsry2_zSXawJ",
        "outputId": "4288af8e-5772-481f-e47d-2203438c1eb5"
      },
      "outputs": [
        {
          "name": "stdout",
          "output_type": "stream",
          "text": [
            "(3476,)\n",
            "(3476,)\n"
          ]
        },
        {
          "data": {
            "text/plain": [
              "Text(0.5, 1.0, 'Actual vs Predicted for Hourly Registered Dataset')"
            ]
          },
          "execution_count": 24,
          "metadata": {},
          "output_type": "execute_result"
        },
        {
          "data": {
            "image/png": "[encoded data removed]",
            "text/plain": [
              "<Figure size 640x480 with 1 Axes>"
            ]
          },
          "metadata": {},
          "output_type": "display_data"
        }
      ],
      "source": [
        "print(y3_pred.shape)\n",
        "print(y3_test_hour.shape)\n",
        "plt.plot(y3_test_hour, y3_pred, '.')\n",
        "plt.title('Actual vs Predicted for Hourly Registered Dataset')"
      ]
    },
    {
      "cell_type": "code",
      "execution_count": null,
      "metadata": {
        "colab": {
          "background_save": true
        },
        "id": "QBtN3GbCkMI9",
        "outputId": "e137e402-3342-4ba0-9429-a85220b50e25"
      },
      "outputs": [
        {
          "data": {
            "text/plain": [
              "Text(0.5, 1.0, 'Mean Squared Error for Hourly Dataset')"
            ]
          },
          "execution_count": 25,
          "metadata": {},
          "output_type": "execute_result"
        },
        {
          "data": {
            "image/png": "[encoded data removed]",
            "text/plain": [
              "<Figure size 1000x500 with 2 Axes>"
            ]
          },
          "metadata": {},
          "output_type": "display_data"
        }
      ],
      "source": [
        "f, (ax1, ax2) = plt.subplots(1, 2,figsize=(10,5))\n",
        "\n",
        "for i, j, k in zip(labels, MSEs, MSEs_PCA):\n",
        "  if 'Day' in i:\n",
        "    ax1.bar(i, j)\n",
        "    ax1.bar(i, k)\n",
        "  else:\n",
        "    ax2.bar(i, j)\n",
        "    ax2.bar(i, k)\n",
        "\n",
        "ax1.set_title('Mean Squared Error for Daily Dataset')\n",
        "\n",
        "ax2.set_title('Mean Squared Error for Hourly Dataset')"
      ]
    },
    {
      "cell_type": "code",
      "execution_count": null,
      "metadata": {
        "colab": {
          "background_save": true
        },
        "id": "YPBl9uZykvmn",
        "outputId": "cdfec107-1d78-4777-e3d0-261c740e34a8"
      },
      "outputs": [
        {
          "data": {
            "text/plain": [
              "Text(0.5, 1.0, 'R2 Score for Hourly Dataset')"
            ]
          },
          "execution_count": 26,
          "metadata": {},
          "output_type": "execute_result"
        },
        {
          "data": {
            "image/png": "[encoded data removed]",
            "text/plain": [
              "<Figure size 1000x500 with 2 Axes>"
            ]
          },
          "metadata": {},
          "output_type": "display_data"
        }
      ],
      "source": [
        "f, (ax1, ax2) = plt.subplots(1, 2,figsize=(10,5))\n",
        "\n",
        "for i, j, k in zip(labels, r2s, r2s_PCA):\n",
        "  if 'Day' in i:\n",
        "    ax1.bar(i, k, color='tab:blue')\n",
        "    ax1.bar(i, j, color='tab:orange')\n",
        "\n",
        "  else:\n",
        "    ax2.bar(i, k, color='tab:blue')\n",
        "    ax2.bar(i, j, color='tab:orange')\n",
        "ax1.set_ylim([0.8,1])\n",
        "ax2.set_ylim([0.8,1])\n",
        "ax1.legend(['w/ PCA', 'w/o PCA'])\n",
        "ax2.legend(['w/ PCA', 'w/o PCA'])\n",
        "ax1.set_title('R2 Score for Daily Dataset')\n",
        "ax2.set_title('R2 Score for Hourly Dataset')"
      ]
    }
  ],
  "metadata": {
    "colab": {
      "provenance": []
    },
    "kernelspec": {
      "display_name": "Python 3",
      "name": "python3"
    },
    "language_info": {
      "name": "python"
    }
  },
  "nbformat": 4,
  "nbformat_minor": 0
}